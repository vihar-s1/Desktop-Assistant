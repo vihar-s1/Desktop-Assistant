{
 "cells": [
  {
   "cell_type": "code",
   "execution_count": 54,
   "metadata": {},
   "outputs": [
    {
     "name": "stdout",
     "output_type": "stream",
     "text": [
      "Point(x=136, y=328)\n"
     ]
    }
   ],
   "source": [
    "#This code pauses the program for 10 seconds and then prints the current position of the mouse cursor.\n",
    "time.sleep(10)\n",
    "print(pyautogui.position())"
   ]
  },
  {
   "cell_type": "code",
   "execution_count": 53,
   "metadata": {},
   "outputs": [],
   "source": [
    "#This code uses PyAutoGUI to simulate scrolling down and then up by a specified distance after a 10-second delay, effectively automating a vertical scroll action on the screen.\n",
    "#this movement will be based on the x,y coordinates mentioned it will be adjustable\n",
    "import pyautogui\n",
    "\n",
    "# Define the starting position (x, y) of the mouse cursor\n",
    "time.sleep(10)\n",
    "start_x, start_y = 1365, 139\n",
    "\n",
    "# Define the distance to scroll\n",
    "scroll_distance = 300\n",
    "\n",
    "# Move the mouse cursor to the starting position\n",
    "pyautogui.moveTo(start_x, start_y)\n",
    "\n",
    "# Simulate dragging down\n",
    "pyautogui.mouseDown()  # Click and hold the mouse button\n",
    "pyautogui.move(0, scroll_distance, duration=1)  # Move the mouse down\n",
    "pyautogui.mouseUp()  # Release the mouse button\n",
    "\n",
    "# Simulate dragging up\n",
    "pyautogui.mouseDown()  # Click and hold the mouse button\n",
    "pyautogui.move(0, -scroll_distance, duration=1)  # Move the mouse up\n",
    "pyautogui.mouseUp()  # Release the mouse buttonnnnnnnnnnnnnnnnnnnnnnnnnnnnnnnnnnnnnnnnnnnnnnnnnnnnnnnnnnnnnnnnnnnnnnnnnnnnnnnnnnnnnnnnnnnnnnnnnnnnnnnnnnnnnnnnnnnnnnnnnnnnnnnnn"
   ]
  },
  {
   "cell_type": "code",
   "execution_count": 55,
   "metadata": {},
   "outputs": [],
   "source": [
    "#This code uses PyAutoGUI to simulate scrolling down and then up by a specified distance after a 10-second delay, effectively automating a horizontal scroll action on the screen.\n",
    "#this movement will be based on the x,y coordinates mentioned it will be adjustable\n",
    "start_x1, start_y1 = 136,328\n",
    "# Define the distance to scroll\n",
    "scroll_distance1 = 300\n",
    "# Simulate dragging right\n",
    "pyautogui.mouseDown()  # Click and hold the mouse button\n",
    "pyautogui.move(scroll_distance1, 0, duration=1)  # Move the mouse left\n",
    "pyautogui.mouseUp()  # Release the mouse button\n",
    "\n",
    "# Simulate dragging left\n",
    "pyautogui.mouseDown()  # Click and hold the mouse button\n",
    "pyautogui.move(-scroll_distance, 0, duration=1)  # Move the mouse right\n",
    "pyautogui.mouseUp()  # Release the mouse button"
   ]
  }
 ],
 "metadata": {
  "kernelspec": {
   "display_name": "Python 3",
   "language": "python",
   "name": "python3"
  },
  "language_info": {
   "codemirror_mode": {
    "name": "ipython",
    "version": 3
   },
   "file_extension": ".py",
   "mimetype": "text/x-python",
   "name": "python",
   "nbconvert_exporter": "python",
   "pygments_lexer": "ipython3",
   "version": "3.10.2"
  }
 },
 "nbformat": 4,
 "nbformat_minor": 2
}
