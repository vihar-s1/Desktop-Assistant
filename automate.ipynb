#This code pauses the program for 10 seconds and then prints the current position of the mouse cursor.
time.sleep(10)
print(pyautogui.position())

#This code uses PyAutoGUI to simulate scrolling down and then up by a specified distance after a 10-second delay, effectively automating a vertical scroll action on the screen.
#this movement will be based on the x,y coordinates mentioned it will be adjustable
import pyautogui

# Define the starting position (x, y) of the mouse cursor
time.sleep(10)
start_x, start_y = 1365, 139

# Define the distance to scroll
scroll_distance = 300

# Move the mouse cursor to the starting position
pyautogui.moveTo(start_x, start_y)

# Simulate dragging down
pyautogui.mouseDown()  # Click and hold the mouse button
pyautogui.move(0, scroll_distance, duration=1)  # Move the mouse down
pyautogui.mouseUp()  # Release the mouse button

# Simulate dragging up
pyautogui.mouseDown()  # Click and hold the mouse button
pyautogui.move(0, -scroll_distance, duration=1)  # Move the mouse up
pyautogui.mouseUp()  # Release the mouse

#This code uses PyAutoGUI to simulate scrolling down and then up by a specified distance after a 10-second delay, effectively automating a horizontal scroll action on the screen.
#this movement will be based on the x,y coordinates mentioned it will be adjustable
start_x1, start_y1 = 136,328
# Define the distance to scroll
scroll_distance1 = 300
# Simulate dragging right
pyautogui.mouseDown()  # Click and hold the mouse button
pyautogui.move(scroll_distance1, 0, duration=1)  # Move the mouse left
pyautogui.mouseUp()  # Release the mouse button

# Simulate dragging left
pyautogui.mouseDown()  # Click and hold the mouse button
pyautogui.move(-scroll_distance, 0, duration=1)  # Move the mouse right
pyautogui.mouseUp()  # Release the mouse button
